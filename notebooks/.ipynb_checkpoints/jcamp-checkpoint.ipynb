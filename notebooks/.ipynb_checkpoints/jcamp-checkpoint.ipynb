{
 "cells": [
  {
   "cell_type": "code",
   "execution_count": 46,
   "id": "level-vienna",
   "metadata": {},
   "outputs": [
    {
     "name": "stdout",
     "output_type": "stream",
     "text": [
      "{'.inlet': 'DEMO 789',\n",
      " '.ionization mode': 'UNKNOWN',\n",
      " '.ric': 21267,\n",
      " '.spectrometer type': 'UNKNOWN',\n",
      " 'data class': 'NTUPLES',\n",
      " 'data table': '(XY..XY),   PEAKS',\n",
      " 'data type': 'MASS SPECTRUM',\n",
      " 'end': '',\n",
      " 'end ntuples': 'MASS SPECTRUM',\n",
      " 'filename': '../examples/gc01_0812_066.jdx',\n",
      " 'first': ',  ,            305.582',\n",
      " 'jcamp-dx': 5.0,\n",
      " 'last': ',  ,            4007.722',\n",
      " 'npoints': 38,\n",
      " 'ntuples': 'MASS SPECTRUM',\n",
      " 'origin': '',\n",
      " 'owner': 'DAVE AND SU',\n",
      " 'page': 'T=4007.722',\n",
      " 'spectrometer/data system': 'UNKNOWN',\n",
      " 'symbol': 'X,  Y,  T',\n",
      " 'title': 'MIX MA',\n",
      " 'units': 'M/Z,  RELATIVE ABUNDANCE, SECONDS',\n",
      " 'var__dim': ',  ,  3',\n",
      " 'var__form': 'AFFN,  AFFN,  AFFN',\n",
      " 'var__name': 'MASS,  INTENSITY,  RETENTION TIME',\n",
      " 'var__type': 'INDEPENDENT,  DEPENDENT,  INDEPENDENT',\n",
      " 'x': array([], dtype=float64),\n",
      " 'y': array([], dtype=float64)}\n"
     ]
    }
   ],
   "source": [
    "from jcamp import JCAMP_reader\n",
    "from pprint import pprint\n",
    "\n",
    "jcamp_dict = JCAMP_reader(\"../examples/gc01_0812_066.jdx\")\n",
    "jcamp_keys = jcamp_dict.keys()\n",
    "\n",
    "pprint(jcamp_dict)\n",
    "\n",
    "# for the original file see ../examples/gc01_0812_066.jdx\n"
   ]
  },
  {
   "cell_type": "code",
   "execution_count": 47,
   "id": "maritime-cartridge",
   "metadata": {},
   "outputs": [
    {
     "name": "stdout",
     "output_type": "stream",
     "text": [
      "\n",
      "Missing keys: []\n"
     ]
    }
   ],
   "source": [
    "# not captured tags\n",
    "import re\n",
    "\n",
    "jcamp_keys = sorted(list(jcamp_keys))  # jcamp_keys are the jcamp libcaptured keys var from cell abover\n",
    "# print(jcamp_keys)\n",
    "\n",
    "def capture_keys_regex(filename):\n",
    "    with open(filename, \"r\") as jdx:\n",
    "        jdx_content = jdx.read()\n",
    "    exp_jdx_keys = re.compile(r'^##(?P<key>.*?)=', re.M)\n",
    "    found_keys = set(re.findall(exp_jdx_keys, jdx_content))\n",
    "    found_keys = [key.lower() for key in found_keys]\n",
    "    return found_keys\n",
    "        \n",
    "found_keys_regex = capture_keys_regex(\"../examples/gc01_0812_066.jdx\")    \n",
    "\n",
    "missing_jcamp_keys = [k for k in found_keys_regex if k not in jcamp_keys] \n",
    "print(f'\\nMissing keys: {missing_jcamp_keys}')"
   ]
  }
 ],
 "metadata": {
  "kernelspec": {
   "display_name": "Python 3",
   "language": "python",
   "name": "python3"
  },
  "language_info": {
   "codemirror_mode": {
    "name": "ipython",
    "version": 3
   },
   "file_extension": ".py",
   "mimetype": "text/x-python",
   "name": "python",
   "nbconvert_exporter": "python",
   "pygments_lexer": "ipython3",
   "version": "3.8.6"
  }
 },
 "nbformat": 4,
 "nbformat_minor": 5
}
